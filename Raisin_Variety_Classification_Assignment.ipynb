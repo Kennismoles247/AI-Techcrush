{
  "nbformat": 4,
  "nbformat_minor": 0,
  "metadata": {
    "colab": {
      "provenance": [],
      "authorship_tag": "ABX9TyOEp9w7b0RvZsLt+xJhiEIy",
      "include_colab_link": true
    },
    "kernelspec": {
      "name": "python3",
      "display_name": "Python 3"
    },
    "language_info": {
      "name": "python"
    }
  },
  "cells": [
    {
      "cell_type": "markdown",
      "metadata": {
        "id": "view-in-github",
        "colab_type": "text"
      },
      "source": [
        "<a href=\"https://colab.research.google.com/github/Kennismoles247/AI-Techcrush/blob/main/Raisin_Variety_Classification_Assignment.ipynb\" target=\"_parent\"><img src=\"https://colab.research.google.com/assets/colab-badge.svg\" alt=\"Open In Colab\"/></a>"
      ]
    },
    {
      "cell_type": "code",
      "execution_count": 3,
      "metadata": {
        "id": "ZjKCPVXz_3Z7"
      },
      "outputs": [],
      "source": [
        "import pandas as pd\n",
        "import numpy as np\n",
        "from sklearn.model_selection import train_test_split, StratifiedKFold, GridSearchCV\n",
        "from sklearn.preprocessing import StandardScaler, LabelEncoder\n",
        "from sklearn.pipeline import Pipeline\n",
        "from sklearn.linear_model import LogisticRegression\n",
        "from sklearn.metrics import accuracy_score, classification_report, confusion_matrix\n",
        "import joblib\n",
        "\n"
      ]
    },
    {
      "cell_type": "code",
      "source": [
        "df = pd.read_excel(r\"/Raisin_Dataset.xlsx\")\n",
        "\n",
        "print(df.shape)      # prints (rows, columns), e.g., (900, 8)\n",
        "print(df.head())     # shows first 5 rows\n",
        "print(df.info())     # info about column names & types\n",
        "print(df['Class'].value_counts())  # check how many of each variety\n",
        "\n"
      ],
      "metadata": {
        "colab": {
          "base_uri": "https://localhost:8080/"
        },
        "id": "2aQE6YZwIW43",
        "outputId": "40d4a0d6-9e04-450f-e3bf-b96de5ab5531"
      },
      "execution_count": 7,
      "outputs": [
        {
          "output_type": "stream",
          "name": "stdout",
          "text": [
            "(900, 8)\n",
            "    Area  MajorAxisLength  MinorAxisLength  Eccentricity  ConvexArea  \\\n",
            "0  87524       442.246011       253.291155      0.819738       90546   \n",
            "1  75166       406.690687       243.032436      0.801805       78789   \n",
            "2  90856       442.267048       266.328318      0.798354       93717   \n",
            "3  45928       286.540559       208.760042      0.684989       47336   \n",
            "4  79408       352.190770       290.827533      0.564011       81463   \n",
            "\n",
            "     Extent  Perimeter    Class  \n",
            "0  0.758651   1184.040  Kecimen  \n",
            "1  0.684130   1121.786  Kecimen  \n",
            "2  0.637613   1208.575  Kecimen  \n",
            "3  0.699599    844.162  Kecimen  \n",
            "4  0.792772   1073.251  Kecimen  \n",
            "<class 'pandas.core.frame.DataFrame'>\n",
            "RangeIndex: 900 entries, 0 to 899\n",
            "Data columns (total 8 columns):\n",
            " #   Column           Non-Null Count  Dtype  \n",
            "---  ------           --------------  -----  \n",
            " 0   Area             900 non-null    int64  \n",
            " 1   MajorAxisLength  900 non-null    float64\n",
            " 2   MinorAxisLength  900 non-null    float64\n",
            " 3   Eccentricity     900 non-null    float64\n",
            " 4   ConvexArea       900 non-null    int64  \n",
            " 5   Extent           900 non-null    float64\n",
            " 6   Perimeter        900 non-null    float64\n",
            " 7   Class            900 non-null    object \n",
            "dtypes: float64(5), int64(2), object(1)\n",
            "memory usage: 56.4+ KB\n",
            "None\n",
            "Class\n",
            "Kecimen    450\n",
            "Besni      450\n",
            "Name: count, dtype: int64\n"
          ]
        }
      ]
    },
    {
      "cell_type": "code",
      "source": [
        "import pandas as pd\n",
        "from sklearn.model_selection import train_test_split, StratifiedKFold, GridSearchCV\n",
        "from sklearn.preprocessing import StandardScaler, LabelEncoder\n",
        "from sklearn.pipeline import Pipeline\n",
        "from sklearn.linear_model import LogisticRegression\n",
        "from sklearn.metrics import accuracy_score, classification_report, confusion_matrix\n",
        "\n",
        "\n",
        "df = pd.read_excel(\"/Raisin_Dataset.xlsx\")\n",
        "\n",
        "X = df.drop(columns=['Class'])   # 7 numerical features\n",
        "y = df['Class']                  # target (Kecimen / Besni)\n",
        "\n",
        "# Encode target labels into 0/1\n",
        "le = LabelEncoder()\n",
        "y_enc = le.fit_transform(y)\n",
        "\n",
        "\n",
        "# Train-Test Split (80:20, stratified)\n",
        "\n",
        "X_train, X_test, y_train, y_test = train_test_split(\n",
        "    X, y_enc, test_size=0.2, stratify=y_enc, random_state=42\n",
        ")\n",
        "\n",
        "\n",
        "# Pipeline + 5-Fold CV\n",
        "\n",
        "pipe = Pipeline([\n",
        "    ('scaler', StandardScaler()),\n",
        "    ('clf', LogisticRegression(solver='saga', max_iter=10000, random_state=42))\n",
        "])\n",
        "\n",
        "skf = StratifiedKFold(n_splits=5, shuffle=True, random_state=42)\n",
        "\n",
        "param_grid = {\n",
        "    'clf__penalty': ['l2', 'l1'],\n",
        "    'clf__C': [0.001, 0.01, 0.1, 1, 10, 100],\n",
        "    'clf__class_weight': [None, 'balanced']\n",
        "}\n",
        "\n",
        "gs = GridSearchCV(\n",
        "    estimator=pipe,\n",
        "    param_grid=param_grid,\n",
        "    cv=skf,\n",
        "    scoring='accuracy',\n",
        "    n_jobs=-1,\n",
        "    verbose=2\n",
        ")\n",
        "\n",
        "gs.fit(X_train, y_train)\n",
        "\n",
        "print(\"Best parameters:\", gs.best_params_)\n",
        "print(\"Best CV accuracy:\", gs.best_score_)\n",
        "\n",
        "\n",
        "# Final Evaluation on Test Set\n",
        "\n",
        "best_model = gs.best_estimator_\n",
        "y_pred = best_model.predict(X_test)\n",
        "\n",
        "acc = accuracy_score(y_test, y_pred)\n",
        "print(\"Test Accuracy:\", acc)\n",
        "print(\"\\nClassification Report:\\n\", classification_report(y_test, y_pred, target_names=le.classes_))\n",
        "print(\"Confusion Matrix:\\n\", confusion_matrix(y_test, y_pred))\n"
      ],
      "metadata": {
        "colab": {
          "base_uri": "https://localhost:8080/"
        },
        "id": "HAvy3R68Lm9y",
        "outputId": "404dfa5c-b6ed-47a8-b4ce-263afbe33b2a"
      },
      "execution_count": 12,
      "outputs": [
        {
          "output_type": "stream",
          "name": "stdout",
          "text": [
            "Fitting 5 folds for each of 24 candidates, totalling 120 fits\n",
            "Best parameters: {'clf__C': 0.1, 'clf__class_weight': None, 'clf__penalty': 'l2'}\n",
            "Best CV accuracy: 0.8680555555555556\n",
            "Test Accuracy: 0.8777777777777778\n",
            "\n",
            "Classification Report:\n",
            "               precision    recall  f1-score   support\n",
            "\n",
            "       Besni       0.93      0.82      0.87        90\n",
            "     Kecimen       0.84      0.93      0.88        90\n",
            "\n",
            "    accuracy                           0.88       180\n",
            "   macro avg       0.88      0.88      0.88       180\n",
            "weighted avg       0.88      0.88      0.88       180\n",
            "\n",
            "Confusion Matrix:\n",
            " [[74 16]\n",
            " [ 6 84]]\n"
          ]
        }
      ]
    }
  ]
}